{
 "cells": [
  {
   "cell_type": "code",
   "execution_count": null,
   "metadata": {},
   "outputs": [],
   "source": [
    "configs = {\"fs.azure.account.auth.type\": \"OAuth\",\n",
    "           \"fs.azure.account.oauth.provider.type\": \"org.apache.hadoop.fs.azurebfs.oauth2.ClientCredsTokenProvider\",\n",
    "           \"fs.azure.account.oauth2.client.id\": \"<application-id>\",\n",
    "           \"fs.azure.account.oauth2.client.secret\": dbutils.secrets.get(scope=\"<scope-name>\",key=\"<service-credential-key-name>\"),\n",
    "           \"fs.azure.account.oauth2.client.endpoint\": \"https://login.microsoftonline.com/<directory-id>/oauth2/token\"}\n",
    "\n",
    "# Optionally, you can add <directory-name> to the source URI of your mount point.\n",
    "dbutils.fs.mount(\n",
    "  source = \"abfss://<file-system-name>@<storage-account-name>.dfs.core.windows.net/\",\n",
    "  mount_point = \"/mnt/<mount-name>\",\n",
    "  extra_configs = configs)"
   ]
  },
  {
   "cell_type": "code",
   "execution_count": null,
   "metadata": {},
   "outputs": [],
   "source": [
    "ratings_df_schema = \"userId integer, movieId integer, rating float\"\n",
    "ratingsDF = spark.read.csv(\"/mnt/<path>/ratings.csv\", header=True, schema=ratings_df_schema).cache()\n",
    "ratingsDF.head(5)"
   ]
  },
  {
   "cell_type": "code",
   "execution_count": null,
   "metadata": {},
   "outputs": [],
   "source": [
    "(trainingDF, testDF) = ratingsDF.randomSplit([0.8, 0.2], seed=21)"
   ]
  },
  {
   "cell_type": "code",
   "execution_count": null,
   "metadata": {},
   "outputs": [],
   "source": [
    "from pyspark.ml.recommendation import ALS\n",
    "als = (ALS()\n",
    "       .setUserCol(\"userId\")\n",
    "       .setItemCol(\"movieId\")\n",
    "       .setRatingCol(\"rating\")\n",
    "       .setPredictionCol(\"predictions\")\n",
    "       .setMaxIter(3)\n",
    "       .setSeed(21)\n",
    "       .setRegParam(0.1)\n",
    "       .setColdStartStrategy(\"drop\")\n",
    "       .setRank(12))   \n",
    "alsModel = als.fit(trainingDF)"
   ]
  },
  {
   "cell_type": "code",
   "execution_count": null,
   "metadata": {},
   "outputs": [],
   "source": [
    "from pyspark.ml.evaluation import RegressionEvaluator\n",
    "\n",
    "regEval = RegressionEvaluator(predictionCol=\"predictions\", labelCol=\"rating\", metricName=\"mse\")\n",
    "predictedTestDF = alsModel.transform(testDF)\n",
    "testMse = regEval.evaluate(predictedTestDF)\n",
    "\n",
    "print('MSE on the test set is {0}'.format(testMse))"
   ]
  },
  {
   "cell_type": "code",
   "execution_count": null,
   "metadata": {},
   "outputs": [],
   "source": [
    "alsModel.save(\"/mnt/<path>\")"
   ]
  },
  {
   "cell_type": "code",
   "execution_count": null,
   "metadata": {},
   "outputs": [],
   "source": [
    "dbutils.fs.unmount(\"/mnt/<path>\")"
   ]
  }
 ],
 "metadata": {
  "kernelspec": {
   "display_name": "Python 3",
   "language": "python",
   "name": "python3"
  },
  "language_info": {
   "codemirror_mode": {
    "name": "ipython",
    "version": 3
   },
   "file_extension": ".py",
   "mimetype": "text/x-python",
   "name": "python",
   "nbconvert_exporter": "python",
   "pygments_lexer": "ipython3",
   "version": "3.7.6"
  },
  "name": "ETL",
  "notebookId": 204179649178663
 },
 "nbformat": 4,
 "nbformat_minor": 4
}
